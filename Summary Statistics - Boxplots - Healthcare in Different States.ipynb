{
 "cells": [
  {
   "cell_type": "markdown",
   "id": "8c0e7d43",
   "metadata": {},
   "source": [
    "# Healthcare in Different States"
   ]
  },
  {
   "cell_type": "code",
   "execution_count": 1,
   "id": "194d2027",
   "metadata": {},
   "outputs": [],
   "source": [
    "import pandas as pd\n",
    "import numpy as np\n",
    "from matplotlib import pyplot as plt"
   ]
  },
  {
   "cell_type": "markdown",
   "id": "9515ee99",
   "metadata": {},
   "source": [
    "In this project, we will use boxplots to investigate the way hospitals in different states across the United States charge their patients for medical procedures.\n",
    "\n",
    "This dataset might look a bit familiar to you — we used it in our lesson about describing histograms. The data originally came from the United State Health and Human Services Department (https://data.cms.gov/Medicare-Inpatient/Inpatient-Prospective-Payment-System-IPPS-Provider/97k6-zzx3).\n",
    "\n",
    "Let’s use boxplots to find more meaning in this data!\n"
   ]
  },
  {
   "cell_type": "markdown",
   "id": "f12cf440",
   "metadata": {},
   "source": [
    "## Investigate the Data"
   ]
  },
  {
   "cell_type": "markdown",
   "id": "b0958831",
   "metadata": {},
   "source": [
    "1. We’ve imported the dataset into a variable named `healthcare`. Let’s take a look at what data we have to work with. Print `healthcare.head()`. This will print the first five rows of the dataset.\n",
    "\n",
    "    Scroll through the table to see what information we have. We know that we want to eventually look at the way heathcare works in different states. What column will be useful to do that?"
   ]
  },
  {
   "cell_type": "code",
   "execution_count": 2,
   "id": "fa120e96",
   "metadata": {
    "scrolled": true
   },
   "outputs": [
    {
     "data": {
      "text/html": [
       "<div>\n",
       "<style scoped>\n",
       "    .dataframe tbody tr th:only-of-type {\n",
       "        vertical-align: middle;\n",
       "    }\n",
       "\n",
       "    .dataframe tbody tr th {\n",
       "        vertical-align: top;\n",
       "    }\n",
       "\n",
       "    .dataframe thead th {\n",
       "        text-align: right;\n",
       "    }\n",
       "</style>\n",
       "<table border=\"1\" class=\"dataframe\">\n",
       "  <thead>\n",
       "    <tr style=\"text-align: right;\">\n",
       "      <th></th>\n",
       "      <th>DRG Definition</th>\n",
       "      <th>Provider Id</th>\n",
       "      <th>Provider Name</th>\n",
       "      <th>Provider Street Address</th>\n",
       "      <th>Provider City</th>\n",
       "      <th>Provider State</th>\n",
       "      <th>Provider Zip Code</th>\n",
       "      <th>Hospital Referral Region Description</th>\n",
       "      <th>Total Discharges</th>\n",
       "      <th>Average Covered Charges</th>\n",
       "      <th>Average Total Payments</th>\n",
       "      <th>Average Medicare Payments</th>\n",
       "    </tr>\n",
       "  </thead>\n",
       "  <tbody>\n",
       "    <tr>\n",
       "      <th>0</th>\n",
       "      <td>039 - EXTRACRANIAL PROCEDURES W/O CC/MCC</td>\n",
       "      <td>10001</td>\n",
       "      <td>SOUTHEAST ALABAMA MEDICAL CENTER</td>\n",
       "      <td>1108 ROSS CLARK CIRCLE</td>\n",
       "      <td>DOTHAN</td>\n",
       "      <td>AL</td>\n",
       "      <td>36301</td>\n",
       "      <td>AL - Dothan</td>\n",
       "      <td>91</td>\n",
       "      <td>32963.07</td>\n",
       "      <td>5777.24</td>\n",
       "      <td>4763.73</td>\n",
       "    </tr>\n",
       "    <tr>\n",
       "      <th>1</th>\n",
       "      <td>039 - EXTRACRANIAL PROCEDURES W/O CC/MCC</td>\n",
       "      <td>10005</td>\n",
       "      <td>MARSHALL MEDICAL CENTER SOUTH</td>\n",
       "      <td>2505 U S HIGHWAY 431 NORTH</td>\n",
       "      <td>BOAZ</td>\n",
       "      <td>AL</td>\n",
       "      <td>35957</td>\n",
       "      <td>AL - Birmingham</td>\n",
       "      <td>14</td>\n",
       "      <td>15131.85</td>\n",
       "      <td>5787.57</td>\n",
       "      <td>4976.71</td>\n",
       "    </tr>\n",
       "    <tr>\n",
       "      <th>2</th>\n",
       "      <td>039 - EXTRACRANIAL PROCEDURES W/O CC/MCC</td>\n",
       "      <td>10006</td>\n",
       "      <td>ELIZA COFFEE MEMORIAL HOSPITAL</td>\n",
       "      <td>205 MARENGO STREET</td>\n",
       "      <td>FLORENCE</td>\n",
       "      <td>AL</td>\n",
       "      <td>35631</td>\n",
       "      <td>AL - Birmingham</td>\n",
       "      <td>24</td>\n",
       "      <td>37560.37</td>\n",
       "      <td>5434.95</td>\n",
       "      <td>4453.79</td>\n",
       "    </tr>\n",
       "    <tr>\n",
       "      <th>3</th>\n",
       "      <td>039 - EXTRACRANIAL PROCEDURES W/O CC/MCC</td>\n",
       "      <td>10011</td>\n",
       "      <td>ST VINCENT'S EAST</td>\n",
       "      <td>50 MEDICAL PARK EAST DRIVE</td>\n",
       "      <td>BIRMINGHAM</td>\n",
       "      <td>AL</td>\n",
       "      <td>35235</td>\n",
       "      <td>AL - Birmingham</td>\n",
       "      <td>25</td>\n",
       "      <td>13998.28</td>\n",
       "      <td>5417.56</td>\n",
       "      <td>4129.16</td>\n",
       "    </tr>\n",
       "    <tr>\n",
       "      <th>4</th>\n",
       "      <td>039 - EXTRACRANIAL PROCEDURES W/O CC/MCC</td>\n",
       "      <td>10016</td>\n",
       "      <td>SHELBY BAPTIST MEDICAL CENTER</td>\n",
       "      <td>1000 FIRST STREET NORTH</td>\n",
       "      <td>ALABASTER</td>\n",
       "      <td>AL</td>\n",
       "      <td>35007</td>\n",
       "      <td>AL - Birmingham</td>\n",
       "      <td>18</td>\n",
       "      <td>31633.27</td>\n",
       "      <td>5658.33</td>\n",
       "      <td>4851.44</td>\n",
       "    </tr>\n",
       "  </tbody>\n",
       "</table>\n",
       "</div>"
      ],
      "text/plain": [
       "                             DRG Definition  Provider Id  \\\n",
       "0  039 - EXTRACRANIAL PROCEDURES W/O CC/MCC        10001   \n",
       "1  039 - EXTRACRANIAL PROCEDURES W/O CC/MCC        10005   \n",
       "2  039 - EXTRACRANIAL PROCEDURES W/O CC/MCC        10006   \n",
       "3  039 - EXTRACRANIAL PROCEDURES W/O CC/MCC        10011   \n",
       "4  039 - EXTRACRANIAL PROCEDURES W/O CC/MCC        10016   \n",
       "\n",
       "                      Provider Name     Provider Street Address Provider City  \\\n",
       "0  SOUTHEAST ALABAMA MEDICAL CENTER      1108 ROSS CLARK CIRCLE        DOTHAN   \n",
       "1     MARSHALL MEDICAL CENTER SOUTH  2505 U S HIGHWAY 431 NORTH          BOAZ   \n",
       "2    ELIZA COFFEE MEMORIAL HOSPITAL          205 MARENGO STREET      FLORENCE   \n",
       "3                 ST VINCENT'S EAST  50 MEDICAL PARK EAST DRIVE    BIRMINGHAM   \n",
       "4     SHELBY BAPTIST MEDICAL CENTER     1000 FIRST STREET NORTH     ALABASTER   \n",
       "\n",
       "  Provider State  Provider Zip Code Hospital Referral Region Description  \\\n",
       "0             AL              36301                          AL - Dothan   \n",
       "1             AL              35957                      AL - Birmingham   \n",
       "2             AL              35631                      AL - Birmingham   \n",
       "3             AL              35235                      AL - Birmingham   \n",
       "4             AL              35007                      AL - Birmingham   \n",
       "\n",
       "    Total Discharges    Average Covered Charges    Average Total Payments   \\\n",
       "0                  91                   32963.07                   5777.24   \n",
       "1                  14                   15131.85                   5787.57   \n",
       "2                  24                   37560.37                   5434.95   \n",
       "3                  25                   13998.28                   5417.56   \n",
       "4                  18                   31633.27                   5658.33   \n",
       "\n",
       "   Average Medicare Payments  \n",
       "0                    4763.73  \n",
       "1                    4976.71  \n",
       "2                    4453.79  \n",
       "3                    4129.16  \n",
       "4                    4851.44  "
      ]
     },
     "execution_count": 2,
     "metadata": {},
     "output_type": "execute_result"
    }
   ],
   "source": [
    "healthcare = pd.read_csv('healthcare.csv')\n",
    "# healthcare = healthcare.drop([\"Unnamed: 0\"], axis = 1)\n",
    "healthcare.head()"
   ]
  },
  {
   "cell_type": "code",
   "execution_count": 3,
   "id": "32f6cfd2",
   "metadata": {},
   "outputs": [
    {
     "data": {
      "text/plain": [
       "Index(['DRG Definition', 'Provider Id', 'Provider Name',\n",
       "       'Provider Street Address', 'Provider City', 'Provider State',\n",
       "       'Provider Zip Code', 'Hospital Referral Region Description',\n",
       "       ' Total Discharges ', ' Average Covered Charges ',\n",
       "       ' Average Total Payments ', 'Average Medicare Payments'],\n",
       "      dtype='object')"
      ]
     },
     "execution_count": 3,
     "metadata": {},
     "output_type": "execute_result"
    }
   ],
   "source": [
    "healthcare.columns"
   ]
  },
  {
   "cell_type": "markdown",
   "id": "f716e3c0",
   "metadata": {},
   "source": [
    "*'Provider State' would be the best column to look at the way healthcare works in different states.*"
   ]
  },
  {
   "cell_type": "code",
   "execution_count": 4,
   "id": "a6610805",
   "metadata": {},
   "outputs": [
    {
     "name": "stdout",
     "output_type": "stream",
     "text": [
      "<class 'pandas.core.frame.DataFrame'>\n",
      "RangeIndex: 163065 entries, 0 to 163064\n",
      "Data columns (total 12 columns):\n",
      " #   Column                                Non-Null Count   Dtype  \n",
      "---  ------                                --------------   -----  \n",
      " 0   DRG Definition                        163065 non-null  object \n",
      " 1   Provider Id                           163065 non-null  int64  \n",
      " 2   Provider Name                         163065 non-null  object \n",
      " 3   Provider Street Address               163065 non-null  object \n",
      " 4   Provider City                         163065 non-null  object \n",
      " 5   Provider State                        163065 non-null  object \n",
      " 6   Provider Zip Code                     163065 non-null  int64  \n",
      " 7   Hospital Referral Region Description  163065 non-null  object \n",
      " 8    Total Discharges                     163065 non-null  int64  \n",
      " 9    Average Covered Charges              163065 non-null  float64\n",
      " 10   Average Total Payments               163065 non-null  float64\n",
      " 11  Average Medicare Payments             163065 non-null  float64\n",
      "dtypes: float64(3), int64(3), object(6)\n",
      "memory usage: 14.9+ MB\n"
     ]
    }
   ],
   "source": [
    "healthcare.info()"
   ]
  },
  {
   "cell_type": "markdown",
   "id": "9362b519",
   "metadata": {},
   "source": [
    "2. We’re going to focus on only the ways in which hospitals charge patients for chest pain. But you could do this for any of the diagnoses in our dataset. Print `healthcare[\"DRG Definition\"].unique()` to see all of the different diagnoses in our dataset.\n",
    "\n",
    "    Can you find the official name of the diagnosis related to chest pain?"
   ]
  },
  {
   "cell_type": "code",
   "execution_count": 5,
   "id": "360eaf1a",
   "metadata": {
    "scrolled": true
   },
   "outputs": [
    {
     "data": {
      "text/plain": [
       "array(['039 - EXTRACRANIAL PROCEDURES W/O CC/MCC',\n",
       "       '057 - DEGENERATIVE NERVOUS SYSTEM DISORDERS W/O MCC',\n",
       "       '069 - TRANSIENT ISCHEMIA',\n",
       "       '064 - INTRACRANIAL HEMORRHAGE OR CEREBRAL INFARCTION W MCC',\n",
       "       '065 - INTRACRANIAL HEMORRHAGE OR CEREBRAL INFARCTION W CC',\n",
       "       '066 - INTRACRANIAL HEMORRHAGE OR CEREBRAL INFARCTION W/O CC/MCC',\n",
       "       '074 - CRANIAL & PERIPHERAL NERVE DISORDERS W/O MCC',\n",
       "       '101 - SEIZURES W/O MCC', '149 - DYSEQUILIBRIUM',\n",
       "       '176 - PULMONARY EMBOLISM W/O MCC',\n",
       "       '177 - RESPIRATORY INFECTIONS & INFLAMMATIONS W MCC',\n",
       "       '189 - PULMONARY EDEMA & RESPIRATORY FAILURE',\n",
       "       '178 - RESPIRATORY INFECTIONS & INFLAMMATIONS W CC',\n",
       "       '190 - CHRONIC OBSTRUCTIVE PULMONARY DISEASE W MCC',\n",
       "       '191 - CHRONIC OBSTRUCTIVE PULMONARY DISEASE W CC',\n",
       "       '193 - SIMPLE PNEUMONIA & PLEURISY W MCC',\n",
       "       '194 - SIMPLE PNEUMONIA & PLEURISY W CC',\n",
       "       '192 - CHRONIC OBSTRUCTIVE PULMONARY DISEASE W/O CC/MCC',\n",
       "       '195 - SIMPLE PNEUMONIA & PLEURISY W/O CC/MCC',\n",
       "       '202 - BRONCHITIS & ASTHMA W CC/MCC',\n",
       "       '203 - BRONCHITIS & ASTHMA W/O CC/MCC',\n",
       "       '207 - RESPIRATORY SYSTEM DIAGNOSIS W VENTILATOR SUPPORT 96+ HOURS',\n",
       "       '238 - MAJOR CARDIOVASC PROCEDURES W/O MCC',\n",
       "       '252 - OTHER VASCULAR PROCEDURES W MCC',\n",
       "       '253 - OTHER VASCULAR PROCEDURES W CC',\n",
       "       '208 - RESPIRATORY SYSTEM DIAGNOSIS W VENTILATOR SUPPORT <96 HOURS',\n",
       "       '254 - OTHER VASCULAR PROCEDURES W/O CC/MCC',\n",
       "       '291 - HEART FAILURE & SHOCK W MCC',\n",
       "       '243 - PERMANENT CARDIAC PACEMAKER IMPLANT W CC',\n",
       "       '244 - PERMANENT CARDIAC PACEMAKER IMPLANT W/O CC/MCC',\n",
       "       '246 - PERC CARDIOVASC PROC W DRUG-ELUTING STENT W MCC OR 4+ VESSELS/STENTS',\n",
       "       '247 - PERC CARDIOVASC PROC W DRUG-ELUTING STENT W/O MCC',\n",
       "       '249 - PERC CARDIOVASC PROC W NON-DRUG-ELUTING STENT W/O MCC',\n",
       "       '251 - PERC CARDIOVASC PROC W/O CORONARY ARTERY STENT W/O MCC',\n",
       "       '280 - ACUTE MYOCARDIAL INFARCTION, DISCHARGED ALIVE W MCC',\n",
       "       '292 - HEART FAILURE & SHOCK W CC',\n",
       "       '281 - ACUTE MYOCARDIAL INFARCTION, DISCHARGED ALIVE W CC',\n",
       "       '282 - ACUTE MYOCARDIAL INFARCTION, DISCHARGED ALIVE W/O CC/MCC',\n",
       "       '286 - CIRCULATORY DISORDERS EXCEPT AMI, W CARD CATH W MCC',\n",
       "       '287 - CIRCULATORY DISORDERS EXCEPT AMI, W CARD CATH W/O MCC',\n",
       "       '293 - HEART FAILURE & SHOCK W/O CC/MCC',\n",
       "       '300 - PERIPHERAL VASCULAR DISORDERS W CC',\n",
       "       '301 - PERIPHERAL VASCULAR DISORDERS W/O CC/MCC',\n",
       "       '303 - ATHEROSCLEROSIS W/O MCC', '305 - HYPERTENSION W/O MCC',\n",
       "       '308 - CARDIAC ARRHYTHMIA & CONDUCTION DISORDERS W MCC',\n",
       "       '312 - SYNCOPE & COLLAPSE',\n",
       "       '309 - CARDIAC ARRHYTHMIA & CONDUCTION DISORDERS W CC',\n",
       "       '310 - CARDIAC ARRHYTHMIA & CONDUCTION DISORDERS W/O CC/MCC',\n",
       "       '313 - CHEST PAIN',\n",
       "       '314 - OTHER CIRCULATORY SYSTEM DIAGNOSES W MCC',\n",
       "       '315 - OTHER CIRCULATORY SYSTEM DIAGNOSES W CC',\n",
       "       '330 - MAJOR SMALL & LARGE BOWEL PROCEDURES W CC',\n",
       "       '377 - G.I. HEMORRHAGE W MCC',\n",
       "       '329 - MAJOR SMALL & LARGE BOWEL PROCEDURES W MCC',\n",
       "       '372 - MAJOR GASTROINTESTINAL DISORDERS & PERITONEAL INFECTIONS W CC',\n",
       "       '378 - G.I. HEMORRHAGE W CC', '379 - G.I. HEMORRHAGE W/O CC/MCC',\n",
       "       '389 - G.I. OBSTRUCTION W CC', '390 - G.I. OBSTRUCTION W/O CC/MCC',\n",
       "       '391 - ESOPHAGITIS, GASTROENT & MISC DIGEST DISORDERS W MCC',\n",
       "       '394 - OTHER DIGESTIVE SYSTEM DIAGNOSES W CC',\n",
       "       '439 - DISORDERS OF PANCREAS EXCEPT MALIGNANCY W CC',\n",
       "       '392 - ESOPHAGITIS, GASTROENT & MISC DIGEST DISORDERS W/O MCC',\n",
       "       '460 - SPINAL FUSION EXCEPT CERVICAL W/O MCC',\n",
       "       '473 - CERVICAL SPINAL FUSION W/O CC/MCC',\n",
       "       '418 - LAPAROSCOPIC CHOLECYSTECTOMY W/O C.D.E. W CC',\n",
       "       '419 - LAPAROSCOPIC CHOLECYSTECTOMY W/O C.D.E. W/O CC/MCC',\n",
       "       '469 - MAJOR JOINT REPLACEMENT OR REATTACHMENT OF LOWER EXTREMITY W MCC',\n",
       "       '470 - MAJOR JOINT REPLACEMENT OR REATTACHMENT OF LOWER EXTREMITY W/O MCC',\n",
       "       '480 - HIP & FEMUR PROCEDURES EXCEPT MAJOR JOINT W MCC',\n",
       "       '481 - HIP & FEMUR PROCEDURES EXCEPT MAJOR JOINT W CC',\n",
       "       '536 - FRACTURES OF HIP & PELVIS W/O MCC',\n",
       "       '482 - HIP & FEMUR PROCEDURES EXCEPT MAJOR JOINT W/O CC/MCC',\n",
       "       '552 - MEDICAL BACK PROBLEMS W/O MCC',\n",
       "       '491 - BACK & NECK PROC EXC SPINAL FUSION W/O CC/MCC',\n",
       "       '563 - FX, SPRN, STRN & DISL EXCEPT FEMUR, HIP, PELVIS & THIGH W/O MCC',\n",
       "       '602 - CELLULITIS W MCC', '603 - CELLULITIS W/O MCC',\n",
       "       '638 - DIABETES W CC',\n",
       "       '640 - MISC DISORDERS OF NUTRITION,METABOLISM,FLUIDS/ELECTROLYTES W MCC',\n",
       "       '682 - RENAL FAILURE W MCC',\n",
       "       '641 - MISC DISORDERS OF NUTRITION,METABOLISM,FLUIDS/ELECTROLYTES W/O MCC',\n",
       "       '683 - RENAL FAILURE W CC', '684 - RENAL FAILURE W/O CC/MCC',\n",
       "       '689 - KIDNEY & URINARY TRACT INFECTIONS W MCC',\n",
       "       '690 - KIDNEY & URINARY TRACT INFECTIONS W/O MCC',\n",
       "       '811 - RED BLOOD CELL DISORDERS W MCC',\n",
       "       '698 - OTHER KIDNEY & URINARY TRACT DIAGNOSES W MCC',\n",
       "       '699 - OTHER KIDNEY & URINARY TRACT DIAGNOSES W CC',\n",
       "       '812 - RED BLOOD CELL DISORDERS W/O MCC',\n",
       "       '853 - INFECTIOUS & PARASITIC DISEASES W O.R. PROCEDURE W MCC',\n",
       "       '885 - PSYCHOSES',\n",
       "       '870 - SEPTICEMIA OR SEVERE SEPSIS W MV 96+ HOURS',\n",
       "       '871 - SEPTICEMIA OR SEVERE SEPSIS W/O MV 96+ HOURS W MCC',\n",
       "       '872 - SEPTICEMIA OR SEVERE SEPSIS W/O MV 96+ HOURS W/O MCC',\n",
       "       '897 - ALCOHOL/DRUG ABUSE OR DEPENDENCE W/O REHABILITATION THERAPY W/O MCC',\n",
       "       '948 - SIGNS & SYMPTOMS W/O MCC',\n",
       "       '917 - POISONING & TOXIC EFFECTS OF DRUGS W MCC',\n",
       "       '918 - POISONING & TOXIC EFFECTS OF DRUGS W/O MCC'], dtype=object)"
      ]
     },
     "execution_count": 5,
     "metadata": {},
     "output_type": "execute_result"
    }
   ],
   "source": [
    "healthcare[\"DRG Definition\"].unique()\n",
    "\n",
    "# Chest pain is 313\n",
    "# DRG means Diagnosis-Related Group"
   ]
  },
  {
   "cell_type": "markdown",
   "id": "6065bc6c",
   "metadata": {},
   "source": [
    "3. Let’s grab only the rows in the dataset that are about chest pain. Use this line of code to do that:\n",
    "\n",
    "        chest_pain = healthcare[healthcare['DRG Definition'] == '313 - CHEST PAIN']\n",
    "\n",
    "    If you’re interested in investigating a different diagnosis, replace '313 - CHEST PAIN' with the name of the other diagnosis. You might want to change the new variable name to be something other than `chest_pain` if you do this!"
   ]
  },
  {
   "cell_type": "code",
   "execution_count": 6,
   "id": "8312285d",
   "metadata": {},
   "outputs": [],
   "source": [
    "chest_pain = healthcare[healthcare['DRG Definition'] == '313 - CHEST PAIN']\n",
    "# chest_pain"
   ]
  },
  {
   "cell_type": "markdown",
   "id": "e9c4dd5d",
   "metadata": {},
   "source": [
    "## Separating By State"
   ]
  },
  {
   "cell_type": "markdown",
   "id": "09666947",
   "metadata": {},
   "source": [
    "4. We now want to separate the dataset by state. Eventually, we’ll use a `for` loop to do this for every state, but for now, let’s prove to ourselves that we can make a boxplot for one state.\n",
    "\n",
    "    When we printed the head, we saw the first few rows had a `'Provider State'` of `\"AL\"`. Those were hospitals in Alabama.\n",
    "\n",
    "    To get every chest pain diagnosis in Alabama, use this line of code:\n",
    "\n",
    "        alabama_chest_pain = chest_pain[chest_pain['Provider State'] == \"AL\"]\n",
    "\n",
    "    Make sure to use the variable that you created in the previous step. We called it `chest_pain`, but you might have named it something else if you used a different diagnosis.\n",
    "\n",
    "    Again, feel free to use a state of your choosing instead of Alabama. Different state abbreviations should work, like `\"CO\"` or `\"NY\"`. Name your variable appropriately!"
   ]
  },
  {
   "cell_type": "code",
   "execution_count": 8,
   "id": "c5a47819",
   "metadata": {},
   "outputs": [
    {
     "data": {
      "text/html": [
       "<div>\n",
       "<style scoped>\n",
       "    .dataframe tbody tr th:only-of-type {\n",
       "        vertical-align: middle;\n",
       "    }\n",
       "\n",
       "    .dataframe tbody tr th {\n",
       "        vertical-align: top;\n",
       "    }\n",
       "\n",
       "    .dataframe thead th {\n",
       "        text-align: right;\n",
       "    }\n",
       "</style>\n",
       "<table border=\"1\" class=\"dataframe\">\n",
       "  <thead>\n",
       "    <tr style=\"text-align: right;\">\n",
       "      <th></th>\n",
       "      <th>DRG Definition</th>\n",
       "      <th>Provider Id</th>\n",
       "      <th>Provider Name</th>\n",
       "      <th>Provider Street Address</th>\n",
       "      <th>Provider City</th>\n",
       "      <th>Provider State</th>\n",
       "      <th>Provider Zip Code</th>\n",
       "      <th>Hospital Referral Region Description</th>\n",
       "      <th>Total Discharges</th>\n",
       "      <th>Average Covered Charges</th>\n",
       "      <th>Average Total Payments</th>\n",
       "      <th>Average Medicare Payments</th>\n",
       "    </tr>\n",
       "  </thead>\n",
       "  <tbody>\n",
       "    <tr>\n",
       "      <th>82205</th>\n",
       "      <td>313 - CHEST PAIN</td>\n",
       "      <td>10001</td>\n",
       "      <td>SOUTHEAST ALABAMA MEDICAL CENTER</td>\n",
       "      <td>1108 ROSS CLARK CIRCLE</td>\n",
       "      <td>DOTHAN</td>\n",
       "      <td>AL</td>\n",
       "      <td>36301</td>\n",
       "      <td>AL - Dothan</td>\n",
       "      <td>36</td>\n",
       "      <td>19540.55</td>\n",
       "      <td>3428.58</td>\n",
       "      <td>2093.38</td>\n",
       "    </tr>\n",
       "    <tr>\n",
       "      <th>82206</th>\n",
       "      <td>313 - CHEST PAIN</td>\n",
       "      <td>10006</td>\n",
       "      <td>ELIZA COFFEE MEMORIAL HOSPITAL</td>\n",
       "      <td>205 MARENGO STREET</td>\n",
       "      <td>FLORENCE</td>\n",
       "      <td>AL</td>\n",
       "      <td>35631</td>\n",
       "      <td>AL - Birmingham</td>\n",
       "      <td>13</td>\n",
       "      <td>20241.84</td>\n",
       "      <td>3849.76</td>\n",
       "      <td>1704.53</td>\n",
       "    </tr>\n",
       "    <tr>\n",
       "      <th>82207</th>\n",
       "      <td>313 - CHEST PAIN</td>\n",
       "      <td>10007</td>\n",
       "      <td>MIZELL MEMORIAL HOSPITAL</td>\n",
       "      <td>702 N MAIN ST</td>\n",
       "      <td>OPP</td>\n",
       "      <td>AL</td>\n",
       "      <td>36467</td>\n",
       "      <td>AL - Dothan</td>\n",
       "      <td>34</td>\n",
       "      <td>6417.20</td>\n",
       "      <td>2808.08</td>\n",
       "      <td>1872.38</td>\n",
       "    </tr>\n",
       "    <tr>\n",
       "      <th>82208</th>\n",
       "      <td>313 - CHEST PAIN</td>\n",
       "      <td>10011</td>\n",
       "      <td>ST VINCENT'S EAST</td>\n",
       "      <td>50 MEDICAL PARK EAST DRIVE</td>\n",
       "      <td>BIRMINGHAM</td>\n",
       "      <td>AL</td>\n",
       "      <td>35235</td>\n",
       "      <td>AL - Birmingham</td>\n",
       "      <td>33</td>\n",
       "      <td>13311.78</td>\n",
       "      <td>2997.00</td>\n",
       "      <td>2113.84</td>\n",
       "    </tr>\n",
       "    <tr>\n",
       "      <th>82209</th>\n",
       "      <td>313 - CHEST PAIN</td>\n",
       "      <td>10016</td>\n",
       "      <td>SHELBY BAPTIST MEDICAL CENTER</td>\n",
       "      <td>1000 FIRST STREET NORTH</td>\n",
       "      <td>ALABASTER</td>\n",
       "      <td>AL</td>\n",
       "      <td>35007</td>\n",
       "      <td>AL - Birmingham</td>\n",
       "      <td>74</td>\n",
       "      <td>21375.25</td>\n",
       "      <td>3339.94</td>\n",
       "      <td>2116.02</td>\n",
       "    </tr>\n",
       "  </tbody>\n",
       "</table>\n",
       "</div>"
      ],
      "text/plain": [
       "         DRG Definition  Provider Id                     Provider Name  \\\n",
       "82205  313 - CHEST PAIN        10001  SOUTHEAST ALABAMA MEDICAL CENTER   \n",
       "82206  313 - CHEST PAIN        10006    ELIZA COFFEE MEMORIAL HOSPITAL   \n",
       "82207  313 - CHEST PAIN        10007          MIZELL MEMORIAL HOSPITAL   \n",
       "82208  313 - CHEST PAIN        10011                 ST VINCENT'S EAST   \n",
       "82209  313 - CHEST PAIN        10016     SHELBY BAPTIST MEDICAL CENTER   \n",
       "\n",
       "          Provider Street Address Provider City Provider State  \\\n",
       "82205      1108 ROSS CLARK CIRCLE        DOTHAN             AL   \n",
       "82206          205 MARENGO STREET      FLORENCE             AL   \n",
       "82207               702 N MAIN ST           OPP             AL   \n",
       "82208  50 MEDICAL PARK EAST DRIVE    BIRMINGHAM             AL   \n",
       "82209     1000 FIRST STREET NORTH     ALABASTER             AL   \n",
       "\n",
       "       Provider Zip Code Hospital Referral Region Description  \\\n",
       "82205              36301                          AL - Dothan   \n",
       "82206              35631                      AL - Birmingham   \n",
       "82207              36467                          AL - Dothan   \n",
       "82208              35235                      AL - Birmingham   \n",
       "82209              35007                      AL - Birmingham   \n",
       "\n",
       "        Total Discharges    Average Covered Charges   \\\n",
       "82205                  36                   19540.55   \n",
       "82206                  13                   20241.84   \n",
       "82207                  34                    6417.20   \n",
       "82208                  33                   13311.78   \n",
       "82209                  74                   21375.25   \n",
       "\n",
       "        Average Total Payments   Average Medicare Payments  \n",
       "82205                   3428.58                    2093.38  \n",
       "82206                   3849.76                    1704.53  \n",
       "82207                   2808.08                    1872.38  \n",
       "82208                   2997.00                    2113.84  \n",
       "82209                   3339.94                    2116.02  "
      ]
     },
     "execution_count": 8,
     "metadata": {},
     "output_type": "execute_result"
    }
   ],
   "source": [
    "alabama_chest_pain = chest_pain[chest_pain['Provider State'] == 'AL']\n",
    "alabama_chest_pain.head()"
   ]
  },
  {
   "cell_type": "markdown",
   "id": "6a82a337",
   "metadata": {},
   "source": [
    "5. We’re almost there! We now have all of the hospitals in Alabama that have a diagnosed chest pain. We now want to find the average cost of those diagnoses. These value is stored in the column `' Average Covered Charges '` (Note the spaces at the start and the end of the string!)\n",
    "\n",
    "    To get only these values, call this line of code:\n",
    "\n",
    "        costs = alabama_chest_pain[' Average Covered Charges '].values\n",
    "\n",
    "    Again, make sure that you’re using the correct variable names — yours might be different."
   ]
  },
  {
   "cell_type": "code",
   "execution_count": 9,
   "id": "82e2b379",
   "metadata": {},
   "outputs": [
    {
     "data": {
      "text/plain": [
       "array([19540.55, 20241.84,  6417.2 , 13311.78, 21375.25, 12569.92,\n",
       "       12072.04,  9999.98,  7274.72,  6660.36, 15449.91,  9091.22,\n",
       "       20074.9 , 21093.72, 39035.25, 23769.85,  4868.25, 18100.56,\n",
       "        4308.61, 23505.03, 17560.85, 10957.75,  6935.45,  7216.7 ,\n",
       "       14627.35,  7006.38, 24424.71,  8700.78, 12268.8 , 15938.66,\n",
       "       11746.9 , 12790.15,  6131.62,  9824.6 , 11883.65, 13602.91,\n",
       "       28750.57, 13358.27,  4610.73, 13840.5 , 14490.31, 12698.  ,\n",
       "       10512.09,  7770.77, 22905.23, 33436.72, 11779.69, 20088.64,\n",
       "        9561.2 , 10494.45, 14002.31, 14100.38])"
      ]
     },
     "execution_count": 9,
     "metadata": {},
     "output_type": "execute_result"
    }
   ],
   "source": [
    "alabama_costs = alabama_chest_pain[' Average Covered Charges '].values\n",
    "alabama_costs"
   ]
  },
  {
   "cell_type": "markdown",
   "id": "7c97fc9e",
   "metadata": {},
   "source": [
    "6. Let’s now make a boxplot of those values! Call `plt.boxplot()` using costs as the first parameter.\n",
    "\n",
    "    Then call `plt.show()` to see your boxplot!"
   ]
  },
  {
   "cell_type": "code",
   "execution_count": 10,
   "id": "f54f5fbc",
   "metadata": {},
   "outputs": [
    {
     "data": {
      "image/png": "[encoded data removed]",
      "text/plain": [
       "<Figure size 432x288 with 1 Axes>"
      ]
     },
     "metadata": {
      "needs_background": "light"
     },
     "output_type": "display_data"
    }
   ],
   "source": [
    "plt.boxplot(alabama_costs)\n",
    "plt.show()"
   ]
  },
  {
   "cell_type": "markdown",
   "id": "94b9545e",
   "metadata": {},
   "source": [
    "## Making a Boxplot for All States"
   ]
  },
  {
   "cell_type": "markdown",
   "id": "36123708",
   "metadata": {},
   "source": [
    "7. Nice work! We’ve made a boxplot for one state. But how does that state compare to the others? Let’s make a boxplot for every state! Comment out (or delete) the two lines of code you just wrote to make the boxplot.\n",
    "\n",
    "    To begin, we first need to create a list of all the states in our dataset. We can once again use the `unique()` function. We used this function when we looked at all of the diagnoses.\n",
    "\n",
    "    Find all of the unique states from the dataset `chest_pain` and store it in a variable named states."
   ]
  },
  {
   "cell_type": "code",
   "execution_count": 11,
   "id": "b9be4547",
   "metadata": {},
   "outputs": [
    {
     "data": {
      "text/plain": [
       "array(['MA', 'AL', 'AK', 'AZ', 'AR', 'CA', 'CO', 'CT', 'DE', 'DC', 'FL',\n",
       "       'GA', 'HI', 'ID', 'IL', 'IN', 'IA', 'KS', 'KY', 'LA', 'ME', 'MD',\n",
       "       'MI', 'MN', 'MS', 'MO', 'MT', 'NE', 'NV', 'NH', 'NJ', 'NM', 'NY',\n",
       "       'NC', 'ND', 'OH', 'OK', 'OR', 'PA', 'RI', 'SC', 'SD', 'TN', 'TX',\n",
       "       'UT', 'VT', 'VA', 'WA', 'WV', 'WI', 'WY'], dtype=object)"
      ]
     },
     "execution_count": 11,
     "metadata": {},
     "output_type": "execute_result"
    }
   ],
   "source": [
    "states = chest_pain['Provider State'].unique()\n",
    "states"
   ]
  },
  {
   "cell_type": "markdown",
   "id": "47372772",
   "metadata": {},
   "source": [
    "8. We’ll now use a for loop to separate the dataset into a dataset for each state:\n",
    "\n",
    "        datasets = []\n",
    "        for state in states:\n",
    "            datasets.append(chest_pain[chest_pain['Provider State'] == state][' Average Covered Charges '].values)\n",
    "\n",
    "    `datasets` now contains 50 datasets — one for each state."
   ]
  },
  {
   "cell_type": "code",
   "execution_count": 12,
   "id": "f0c3025c",
   "metadata": {},
   "outputs": [],
   "source": [
    "datasets = []\n",
    "for state in states:\n",
    "    datasets.append(chest_pain[chest_pain['Provider State'] == state][' Average Covered Charges '].values)"
   ]
  },
  {
   "cell_type": "markdown",
   "id": "58652033",
   "metadata": {},
   "source": [
    "9. We’re about to draw 50 boxplots. Before we draw them, let’s make sure there’s enough room. Call `plt.figure(figsize=(20,6))`. This will make your figure long to allow room for so many boxplots!\n",
    "\n",
    "10. Draw the boxplot using `datasets` as the first parameter. Add the second parameter `labels = states` to label your boxplots.\n",
    "\n",
    "    Finally, make sure to call `plt.show()`."
   ]
  },
  {
   "cell_type": "code",
   "execution_count": 13,
   "id": "454b49e7",
   "metadata": {},
   "outputs": [
    {
     "data": {
      "image/png": "[encoded data removed]",
      "text/plain": [
       "<Figure size 1440x432 with 1 Axes>"
      ]
     },
     "metadata": {
      "needs_background": "light"
     },
     "output_type": "display_data"
    }
   ],
   "source": [
    "plt.figure(figsize=(20,6))\n",
    "plt.boxplot(datasets, labels = states)\n",
    "plt.show()"
   ]
  },
  {
   "cell_type": "markdown",
   "id": "832846c8",
   "metadata": {},
   "source": [
    "## Interpret and Explore"
   ]
  },
  {
   "cell_type": "markdown",
   "id": "712de45e",
   "metadata": {},
   "source": [
    "11. Nice work! You should now see 50 boxplots.\n",
    "\n",
    "    What information have you learned by looking at these boxplots side by side? What state has the largest spread? What state has the largest median? Which states have the most outliers?\n",
    "    \n",
    "    - *California, New Jersey and Florida have the largest spreads, Vermont has almost none*\n",
    "\n",
    "    - *New Jersey has the largest median cost for chest pain diagnosis, Maryland has the smallest*\n",
    "\n",
    "    - *CA, GA, MO, PA, TN, VA, WI have a outliers*"
   ]
  },
  {
   "cell_type": "markdown",
   "id": "e3088516",
   "metadata": {},
   "source": [
    "12. Take some time to explore more from here. Here are some ways in which you can investigate the data more:\n",
    "\n",
    "    - Look at diagnoses other than `'313 - CHEST PAIN'`.\n",
    "    - Group states by regions. Maybe hospitals in the Northeast charge patients differently than hospitals in the South.\n",
    "    - Plot something other than `' Average Covered Charges '`. You have data about how much Meidcare pays in the `'Average Medicare Payments'` column."
   ]
  },
  {
   "cell_type": "code",
   "execution_count": 14,
   "id": "4375b9ae",
   "metadata": {},
   "outputs": [
    {
     "data": {
      "image/png": "[encoded data removed]",
      "text/plain": [
       "<Figure size 1440x432 with 1 Axes>"
      ]
     },
     "metadata": {
      "needs_background": "light"
     },
     "output_type": "display_data"
    }
   ],
   "source": [
    "# Diagnosis other than chest pain? Group states by regions. Plot actual payments.\n",
    "actual_cost_datasets = []\n",
    "for state in states:\n",
    "    actual_cost_datasets.append(chest_pain[chest_pain['Provider State'] == state][' Average Total Payments '].values)\n",
    "    \n",
    "plt.figure(figsize=(20,6))\n",
    "plt.boxplot(actual_cost_datasets, labels = states)\n",
    "plt.title('Actual Costs')\n",
    "plt.show()"
   ]
  },
  {
   "cell_type": "code",
   "execution_count": 15,
   "id": "92b729f1",
   "metadata": {},
   "outputs": [
    {
     "data": {
      "text/plain": [
       "array(['MA', 'AL', 'AK', 'AZ', 'AR', 'CA', 'CO', 'CT', 'DE', 'DC', 'FL',\n",
       "       'GA', 'HI', 'ID', 'IL', 'IN', 'IA', 'KS', 'KY', 'LA', 'ME', 'MD',\n",
       "       'MI', 'MN', 'MS', 'MO', 'MT', 'NE', 'NV', 'NH', 'NJ', 'NM', 'NY',\n",
       "       'NC', 'ND', 'OH', 'OK', 'OR', 'PA', 'RI', 'SC', 'SD', 'TN', 'TX',\n",
       "       'UT', 'VT', 'VA', 'WA', 'WV', 'WI', 'WY'], dtype=object)"
      ]
     },
     "execution_count": 15,
     "metadata": {},
     "output_type": "execute_result"
    }
   ],
   "source": [
    "states"
   ]
  },
  {
   "cell_type": "markdown",
   "id": "03bce784",
   "metadata": {},
   "source": [
    "Using this list https://github.com/cphalpert/census-regions/blob/master/us%20census%20bureau%20regions%20and%20divisions.csv to determine regions."
   ]
  },
  {
   "cell_type": "code",
   "execution_count": 16,
   "id": "9d2c70b5",
   "metadata": {
    "scrolled": true
   },
   "outputs": [
    {
     "name": "stderr",
     "output_type": "stream",
     "text": [
      "C:\\Users\\Becki\\AppData\\Local\\Temp/ipykernel_3496/4253733219.py:10: SettingWithCopyWarning: \n",
      "A value is trying to be set on a copy of a slice from a DataFrame.\n",
      "Try using .loc[row_indexer,col_indexer] = value instead\n",
      "\n",
      "See the caveats in the documentation: https://pandas.pydata.org/pandas-docs/stable/user_guide/indexing.html#returning-a-view-versus-a-copy\n",
      "  chest_pain['Regions'] = chest_pain['Provider State'].map(regions)\n"
     ]
    },
    {
     "data": {
      "text/html": [
       "<div>\n",
       "<style scoped>\n",
       "    .dataframe tbody tr th:only-of-type {\n",
       "        vertical-align: middle;\n",
       "    }\n",
       "\n",
       "    .dataframe tbody tr th {\n",
       "        vertical-align: top;\n",
       "    }\n",
       "\n",
       "    .dataframe thead th {\n",
       "        text-align: right;\n",
       "    }\n",
       "</style>\n",
       "<table border=\"1\" class=\"dataframe\">\n",
       "  <thead>\n",
       "    <tr style=\"text-align: right;\">\n",
       "      <th></th>\n",
       "      <th>DRG Definition</th>\n",
       "      <th>Provider Id</th>\n",
       "      <th>Provider Name</th>\n",
       "      <th>Provider Street Address</th>\n",
       "      <th>Provider City</th>\n",
       "      <th>Provider State</th>\n",
       "      <th>Provider Zip Code</th>\n",
       "      <th>Hospital Referral Region Description</th>\n",
       "      <th>Total Discharges</th>\n",
       "      <th>Average Covered Charges</th>\n",
       "      <th>Average Total Payments</th>\n",
       "      <th>Average Medicare Payments</th>\n",
       "      <th>Regions</th>\n",
       "    </tr>\n",
       "  </thead>\n",
       "  <tbody>\n",
       "    <tr>\n",
       "      <th>80531</th>\n",
       "      <td>313 - CHEST PAIN</td>\n",
       "      <td>220108</td>\n",
       "      <td>MILTON HOSPITAL INC</td>\n",
       "      <td>199 REEDSDALE ROAD</td>\n",
       "      <td>MILTON</td>\n",
       "      <td>MA</td>\n",
       "      <td>2186</td>\n",
       "      <td>MA - Boston</td>\n",
       "      <td>43</td>\n",
       "      <td>6760.53</td>\n",
       "      <td>3547.00</td>\n",
       "      <td>2633.04</td>\n",
       "      <td>Northeast</td>\n",
       "    </tr>\n",
       "    <tr>\n",
       "      <th>82205</th>\n",
       "      <td>313 - CHEST PAIN</td>\n",
       "      <td>10001</td>\n",
       "      <td>SOUTHEAST ALABAMA MEDICAL CENTER</td>\n",
       "      <td>1108 ROSS CLARK CIRCLE</td>\n",
       "      <td>DOTHAN</td>\n",
       "      <td>AL</td>\n",
       "      <td>36301</td>\n",
       "      <td>AL - Dothan</td>\n",
       "      <td>36</td>\n",
       "      <td>19540.55</td>\n",
       "      <td>3428.58</td>\n",
       "      <td>2093.38</td>\n",
       "      <td>South</td>\n",
       "    </tr>\n",
       "    <tr>\n",
       "      <th>82206</th>\n",
       "      <td>313 - CHEST PAIN</td>\n",
       "      <td>10006</td>\n",
       "      <td>ELIZA COFFEE MEMORIAL HOSPITAL</td>\n",
       "      <td>205 MARENGO STREET</td>\n",
       "      <td>FLORENCE</td>\n",
       "      <td>AL</td>\n",
       "      <td>35631</td>\n",
       "      <td>AL - Birmingham</td>\n",
       "      <td>13</td>\n",
       "      <td>20241.84</td>\n",
       "      <td>3849.76</td>\n",
       "      <td>1704.53</td>\n",
       "      <td>South</td>\n",
       "    </tr>\n",
       "    <tr>\n",
       "      <th>82207</th>\n",
       "      <td>313 - CHEST PAIN</td>\n",
       "      <td>10007</td>\n",
       "      <td>MIZELL MEMORIAL HOSPITAL</td>\n",
       "      <td>702 N MAIN ST</td>\n",
       "      <td>OPP</td>\n",
       "      <td>AL</td>\n",
       "      <td>36467</td>\n",
       "      <td>AL - Dothan</td>\n",
       "      <td>34</td>\n",
       "      <td>6417.20</td>\n",
       "      <td>2808.08</td>\n",
       "      <td>1872.38</td>\n",
       "      <td>South</td>\n",
       "    </tr>\n",
       "    <tr>\n",
       "      <th>82208</th>\n",
       "      <td>313 - CHEST PAIN</td>\n",
       "      <td>10011</td>\n",
       "      <td>ST VINCENT'S EAST</td>\n",
       "      <td>50 MEDICAL PARK EAST DRIVE</td>\n",
       "      <td>BIRMINGHAM</td>\n",
       "      <td>AL</td>\n",
       "      <td>35235</td>\n",
       "      <td>AL - Birmingham</td>\n",
       "      <td>33</td>\n",
       "      <td>13311.78</td>\n",
       "      <td>2997.00</td>\n",
       "      <td>2113.84</td>\n",
       "      <td>South</td>\n",
       "    </tr>\n",
       "  </tbody>\n",
       "</table>\n",
       "</div>"
      ],
      "text/plain": [
       "         DRG Definition  Provider Id                     Provider Name  \\\n",
       "80531  313 - CHEST PAIN       220108               MILTON HOSPITAL INC   \n",
       "82205  313 - CHEST PAIN        10001  SOUTHEAST ALABAMA MEDICAL CENTER   \n",
       "82206  313 - CHEST PAIN        10006    ELIZA COFFEE MEMORIAL HOSPITAL   \n",
       "82207  313 - CHEST PAIN        10007          MIZELL MEMORIAL HOSPITAL   \n",
       "82208  313 - CHEST PAIN        10011                 ST VINCENT'S EAST   \n",
       "\n",
       "          Provider Street Address Provider City Provider State  \\\n",
       "80531          199 REEDSDALE ROAD        MILTON             MA   \n",
       "82205      1108 ROSS CLARK CIRCLE        DOTHAN             AL   \n",
       "82206          205 MARENGO STREET      FLORENCE             AL   \n",
       "82207               702 N MAIN ST           OPP             AL   \n",
       "82208  50 MEDICAL PARK EAST DRIVE    BIRMINGHAM             AL   \n",
       "\n",
       "       Provider Zip Code Hospital Referral Region Description  \\\n",
       "80531               2186                          MA - Boston   \n",
       "82205              36301                          AL - Dothan   \n",
       "82206              35631                      AL - Birmingham   \n",
       "82207              36467                          AL - Dothan   \n",
       "82208              35235                      AL - Birmingham   \n",
       "\n",
       "        Total Discharges    Average Covered Charges   \\\n",
       "80531                  43                    6760.53   \n",
       "82205                  36                   19540.55   \n",
       "82206                  13                   20241.84   \n",
       "82207                  34                    6417.20   \n",
       "82208                  33                   13311.78   \n",
       "\n",
       "        Average Total Payments   Average Medicare Payments    Regions  \n",
       "80531                   3547.00                    2633.04  Northeast  \n",
       "82205                   3428.58                    2093.38      South  \n",
       "82206                   3849.76                    1704.53      South  \n",
       "82207                   2808.08                    1872.38      South  \n",
       "82208                   2997.00                    2113.84      South  "
      ]
     },
     "execution_count": 16,
     "metadata": {},
     "output_type": "execute_result"
    }
   ],
   "source": [
    "# add a column for region to the chest_pain datafram\n",
    "regions = {'AK': 'West','AL': 'South','AR': 'South','AZ': 'West','CA': 'West','CO': 'West','CT': 'Northeast','DC': 'South',\n",
    "           'DE': 'South','FL': 'South','GA': 'South','HI': 'West','IA': 'Midwest','ID': 'West','IL': 'Midwest','IN': 'Midwest',\n",
    "           'KS': 'Midwest','KY': 'South','LA': 'South','MA': 'Northeast','MD': 'South','ME': 'Northeast','MI': 'Midwest',\n",
    "           'MN': 'Midwest','MO': 'Midwest','MS': 'South','MT': 'West','NC': 'South','ND': 'Midwest','NE': 'Midwest',\n",
    "           'NH': 'Northeast','NJ': 'Northeast','NM': 'West','NV': 'West','NY': 'Northeast','OH': 'Midweat','OK': 'South',\n",
    "           'OR': 'West','PA': 'Northeast','RI': 'Northeast','SC': 'South','SD': 'Midwest','TN': 'South','TX': 'South',\n",
    "           'UT': 'West','VA': 'South','VT': 'Northeast','WA': 'West','WI': 'Midwest','WV': 'South','WY': 'West'\n",
    "}\n",
    "chest_pain['Regions'] = chest_pain['Provider State'].map(regions)\n",
    "chest_pain.head()"
   ]
  },
  {
   "cell_type": "code",
   "execution_count": 18,
   "id": "a707e81b",
   "metadata": {},
   "outputs": [
    {
     "data": {
      "text/plain": [
       "[array([], dtype=float64),\n",
       " array([], dtype=float64),\n",
       " array([], dtype=float64),\n",
       " array([], dtype=float64),\n",
       " array([], dtype=float64),\n",
       " array([], dtype=float64),\n",
       " array([], dtype=float64),\n",
       " array([], dtype=float64),\n",
       " array([], dtype=float64),\n",
       " array([], dtype=float64),\n",
       " array([], dtype=float64),\n",
       " array([], dtype=float64),\n",
       " array([], dtype=float64),\n",
       " array([], dtype=float64),\n",
       " array([], dtype=float64),\n",
       " array([], dtype=float64),\n",
       " array([], dtype=float64),\n",
       " array([], dtype=float64),\n",
       " array([], dtype=float64),\n",
       " array([], dtype=float64),\n",
       " array([], dtype=float64),\n",
       " array([], dtype=float64),\n",
       " array([], dtype=float64),\n",
       " array([], dtype=float64),\n",
       " array([], dtype=float64),\n",
       " array([], dtype=float64),\n",
       " array([], dtype=float64),\n",
       " array([], dtype=float64),\n",
       " array([], dtype=float64),\n",
       " array([], dtype=float64),\n",
       " array([], dtype=float64),\n",
       " array([], dtype=float64),\n",
       " array([], dtype=float64),\n",
       " array([], dtype=float64),\n",
       " array([], dtype=float64),\n",
       " array([], dtype=float64),\n",
       " array([], dtype=float64),\n",
       " array([], dtype=float64),\n",
       " array([], dtype=float64),\n",
       " array([], dtype=float64),\n",
       " array([], dtype=float64),\n",
       " array([], dtype=float64),\n",
       " array([], dtype=float64),\n",
       " array([], dtype=float64),\n",
       " array([], dtype=float64),\n",
       " array([], dtype=float64),\n",
       " array([], dtype=float64),\n",
       " array([], dtype=float64),\n",
       " array([], dtype=float64),\n",
       " array([], dtype=float64),\n",
       " array([], dtype=float64)]"
      ]
     },
     "execution_count": 18,
     "metadata": {},
     "output_type": "execute_result"
    }
   ],
   "source": [
    "# find the costs in each region\n",
    "costs_regions = []\n",
    "for region in regions:\n",
    "    costs_regions.append(chest_pain[chest_pain['Regions'] == region][' Average Covered Charges '].values)\n",
    "costs_regions"
   ]
  },
  {
   "cell_type": "code",
   "execution_count": 19,
   "id": "23a0def6",
   "metadata": {},
   "outputs": [
    {
     "data": {
      "image/png": "[encoded data removed]",
      "text/plain": [
       "<Figure size 1440x432 with 1 Axes>"
      ]
     },
     "metadata": {
      "needs_background": "light"
     },
     "output_type": "display_data"
    }
   ],
   "source": [
    "plt.figure(figsize=(20,6))\n",
    "\n",
    "# Draw the boxplot using datasets as the first parameter. \n",
    "# Add the second parameter labels = states to label your boxplots.\n",
    "\n",
    "plt.boxplot(costs_regions, labels = regions)\n",
    "plt.show()"
   ]
  }
 ],
 "metadata": {
  "kernelspec": {
   "display_name": "Python 3 (ipykernel)",
   "language": "python",
   "name": "python3"
  },
  "language_info": {
   "codemirror_mode": {
    "name": "ipython",
    "version": 3
   },
   "file_extension": ".py",
   "mimetype": "text/x-python",
   "name": "python",
   "nbconvert_exporter": "python",
   "pygments_lexer": "ipython3",
   "version": "3.9.7"
  }
 },
 "nbformat": 4,
 "nbformat_minor": 5
}
